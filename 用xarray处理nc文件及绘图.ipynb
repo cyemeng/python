{
 "cells": [
  {
   "cell_type": "code",
   "execution_count": null,
   "metadata": {},
   "outputs": [],
   "source": [
    "# %matplotlib inline\n",
    "import matplotlib.pyplot as plt\n",
    "import cartopy.crs as ccrs\n",
    "import numpy as np\n",
    "import xarray as xr"
   ]
  },
  {
   "cell_type": "code",
   "execution_count": null,
   "metadata": {},
   "outputs": [],
   "source": [
    "# 测试文件从 ftp://ftp.cdc.noaa.gov/pub/Datasets/ncep.reanalysis2/surface/mslp.2020.nc 下载\n",
    "ds = xr.open_dataset(\"mslp.2020.nc\")"
   ]
  },
  {
   "cell_type": "code",
   "execution_count": null,
   "metadata": {
    "scrolled": false
   },
   "outputs": [],
   "source": [
    "ds.dims"
   ]
  },
  {
   "cell_type": "code",
   "execution_count": null,
   "metadata": {},
   "outputs": [],
   "source": [
    "mslp = ds.mslp\n",
    "mslp_mean = mslp.mean(\"time\")  # 对时间求平均"
   ]
  },
  {
   "cell_type": "code",
   "execution_count": null,
   "metadata": {
    "scrolled": true
   },
   "outputs": [],
   "source": [
    "mslp_jan = mslp.loc[\"2020-01-01\":\"2020-02-01\"]  # 筛选出一月份的资料"
   ]
  },
  {
   "cell_type": "code",
   "execution_count": null,
   "metadata": {},
   "outputs": [],
   "source": [
    "mslp_jan_mean = mslp_jan.mean(\"time\")  #对一月的资料求时间平均"
   ]
  },
  {
   "cell_type": "code",
   "execution_count": null,
   "metadata": {},
   "outputs": [],
   "source": [
    "mslp_jan_mean_diff = mslp_jan_mean - mslp_mean  # 计算一月份距平"
   ]
  },
  {
   "cell_type": "code",
   "execution_count": null,
   "metadata": {
    "scrolled": false
   },
   "outputs": [],
   "source": [
    "# 开始绘图\n",
    "fig = plt.figure(figsize=(12.8, 8), dpi=100)  # 图像大小 8*4.8 inch^2, dpi=100, 所以表示代表图片分辨率为 800*480\n",
    "# subplot为子图，211代表在2*1的fig上的第一个位置画图\n",
    "ax1 = plt.subplot(211, projection=ccrs.Robinson(central_longitude=180))  # 第一个图是Robinson投影\n",
    "ax1.coastlines()\n",
    "ax2 = plt.subplot(212, projection=ccrs.LambertCylindrical(central_longitude=180)) # 第二个图是LambertCylindrical投影\n",
    "ax2.coastlines()"
   ]
  },
  {
   "cell_type": "code",
   "execution_count": null,
   "metadata": {
    "scrolled": false
   },
   "outputs": [],
   "source": [
    "ax1.gridlines()\n",
    "ax2.gridlines(draw_labels=True)  # 第二子图上绘制 labels"
   ]
  },
  {
   "cell_type": "code",
   "execution_count": null,
   "metadata": {},
   "outputs": [],
   "source": [
    "fig"
   ]
  },
  {
   "cell_type": "code",
   "execution_count": null,
   "metadata": {},
   "outputs": [],
   "source": [
    "cf1 = ax1.contourf(ds.lon, ds.lat, mslp_mean, transform=ccrs.PlateCarree())  # 在ax1上绘制全部的平均值\n",
    "title1 = \"%s Time Mean\" % mslp.var_desc\n",
    "ax1.set_title(title1)  # 设置图一的标题\n",
    "\n",
    "cf2 = ax2.contourf(ds.lon, ds.lat, mslp_jan_mean_diff,\n",
    "             cmap='Spectral_r', transform=ccrs.PlateCarree())  # 在ax2上绘制距平图，使用特制的色标\n",
    "title2 = \"JAN %s from Time Mean\" % mslp.var_desc\n",
    "ax2.set_title(title2)  # 设置图2的标题"
   ]
  },
  {
   "cell_type": "code",
   "execution_count": null,
   "metadata": {},
   "outputs": [],
   "source": [
    "fig"
   ]
  },
  {
   "cell_type": "code",
   "execution_count": null,
   "metadata": {
    "scrolled": true
   },
   "outputs": [],
   "source": [
    "fig.colorbar(cf1, ax=ax1)\n",
    "fig.colorbar(cf2, ax=ax2)"
   ]
  },
  {
   "cell_type": "code",
   "execution_count": null,
   "metadata": {},
   "outputs": [],
   "source": [
    "fig"
   ]
  },
  {
   "cell_type": "code",
   "execution_count": null,
   "metadata": {},
   "outputs": [],
   "source": [
    "fig.clear()\n",
    "fig = plt.figure(figsize=(12.8,8))\n",
    "ax1 = plt.subplot(\n",
    "    projection=ccrs.LambertConformal(\n",
    "        central_latitude=35,central_longitude=105\n",
    "    ))\n",
    "#ax1.set_extent([75,135, 15, 55 ], ccrs.PlateCarree())\n",
    "ax1.coastlines()"
   ]
  },
  {
   "cell_type": "code",
   "execution_count": null,
   "metadata": {},
   "outputs": [],
   "source": [
    "mslp_clip = mslp.loc[:, 55:15, 75:135] # 对区域切片 3D，现在纬度是倒叙\n",
    "mslp_clip_1 = mslp_clip[0]/100  # 拿出第一个时次的数据 2D，除以100成百帕\n",
    "mslp_clip_cf = ax1.contourf(mslp_clip.lon, mslp_clip.lat, mslp_clip_1, transform=ccrs.PlateCarree())\n",
    "mslp_clip_c = ax1.contour(mslp_clip.lon, mslp_clip.lat, mslp_clip_1,\n",
    "                           colors='yellow',\n",
    "                           transform=ccrs.PlateCarree())"
   ]
  },
  {
   "cell_type": "code",
   "execution_count": null,
   "metadata": {
    "scrolled": true
   },
   "outputs": [],
   "source": [
    "fig.colorbar(mslp_clip_cf, ax=ax1)"
   ]
  },
  {
   "cell_type": "code",
   "execution_count": null,
   "metadata": {},
   "outputs": [],
   "source": [
    "fig"
   ]
  },
  {
   "cell_type": "code",
   "execution_count": null,
   "metadata": {
    "scrolled": true
   },
   "outputs": [],
   "source": [
    "ax1.gridlines(draw_labels=True)"
   ]
  },
  {
   "cell_type": "code",
   "execution_count": null,
   "metadata": {},
   "outputs": [],
   "source": [
    "fig"
   ]
  }
 ],
 "metadata": {
  "kernelspec": {
   "display_name": "Python 3",
   "language": "python",
   "name": "python3"
  },
  "language_info": {
   "codemirror_mode": {
    "name": "ipython",
    "version": 3
   },
   "file_extension": ".py",
   "mimetype": "text/x-python",
   "name": "python",
   "nbconvert_exporter": "python",
   "pygments_lexer": "ipython3",
   "version": "3.8.5"
  }
 },
 "nbformat": 4,
 "nbformat_minor": 4
}
